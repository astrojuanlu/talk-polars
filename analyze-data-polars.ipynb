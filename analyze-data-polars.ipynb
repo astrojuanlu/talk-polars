{
 "cells": [
  {
   "cell_type": "markdown",
   "id": "9dc01f0e-01b5-473f-9d02-3b07b8d338c6",
   "metadata": {},
   "source": [
    "## First steps with Polars"
   ]
  },
  {
   "cell_type": "code",
   "execution_count": 1,
   "id": "c8923155-b7f7-47b7-87a2-5d4fe7020370",
   "metadata": {
    "tags": []
   },
   "outputs": [],
   "source": [
    "import polars as pl"
   ]
  },
  {
   "cell_type": "code",
   "execution_count": 2,
   "id": "11a77b46-8d92-49e6-9f61-aa4281f4e892",
   "metadata": {
    "tags": []
   },
   "outputs": [
    {
     "name": "stdout",
     "output_type": "stream",
     "text": [
      "1.8G\tdata/01_raw/Questions.csv\n",
      " 62M\tdata/01_raw/Tags.csv\n"
     ]
    }
   ],
   "source": [
    "!du -sh data/01_raw/*"
   ]
  },
  {
   "cell_type": "code",
   "execution_count": 3,
   "id": "e2cbb3c1-a639-4ccb-b809-7223b84a3538",
   "metadata": {
    "scrolled": true,
    "tags": []
   },
   "outputs": [
    {
     "data": {
      "text/html": [
       "<div><style>\n",
       ".dataframe > thead > tr > th,\n",
       ".dataframe > tbody > tr > td {\n",
       "  text-align: right;\n",
       "}\n",
       "</style>\n",
       "<small>shape: (5, 7)</small><table border=\"1\" class=\"dataframe\"><thead><tr><th>Id</th><th>OwnerUserId</th><th>CreationDate</th><th>ClosedDate</th><th>Score</th><th>Title</th><th>Body</th></tr><tr><td>i64</td><td>str</td><td>str</td><td>str</td><td>i64</td><td>str</td><td>str</td></tr></thead><tbody><tr><td>80</td><td>&quot;26&quot;</td><td>&quot;2008-08-01T13:…</td><td>&quot;NA&quot;</td><td>26</td><td>&quot;SQLStatement.e…</td><td>&quot;&lt;p&gt;I&#x27;ve writte…</td></tr><tr><td>90</td><td>&quot;58&quot;</td><td>&quot;2008-08-01T14:…</td><td>&quot;2012-12-26T03:…</td><td>144</td><td>&quot;Good branching…</td><td>&quot;&lt;p&gt;Are there a…</td></tr><tr><td>120</td><td>&quot;83&quot;</td><td>&quot;2008-08-01T15:…</td><td>&quot;NA&quot;</td><td>21</td><td>&quot;ASP.NET Site M…</td><td>&quot;&lt;p&gt;Has anyone …</td></tr><tr><td>180</td><td>&quot;2089740&quot;</td><td>&quot;2008-08-01T18:…</td><td>&quot;NA&quot;</td><td>53</td><td>&quot;Function for c…</td><td>&quot;&lt;p&gt;This is som…</td></tr><tr><td>260</td><td>&quot;91&quot;</td><td>&quot;2008-08-01T23:…</td><td>&quot;NA&quot;</td><td>49</td><td>&quot;Adding scripti…</td><td>&quot;&lt;p&gt;I have a li…</td></tr></tbody></table></div>"
      ],
      "text/plain": [
       "shape: (5, 7)\n",
       "┌─────┬─────────────┬─────────────────┬─────────────────┬───────┬─────────────────┬────────────────┐\n",
       "│ Id  ┆ OwnerUserId ┆ CreationDate    ┆ ClosedDate      ┆ Score ┆ Title           ┆ Body           │\n",
       "│ --- ┆ ---         ┆ ---             ┆ ---             ┆ ---   ┆ ---             ┆ ---            │\n",
       "│ i64 ┆ str         ┆ str             ┆ str             ┆ i64   ┆ str             ┆ str            │\n",
       "╞═════╪═════════════╪═════════════════╪═════════════════╪═══════╪═════════════════╪════════════════╡\n",
       "│ 80  ┆ 26          ┆ 2008-08-01T13:5 ┆ NA              ┆ 26    ┆ SQLStatement.ex ┆ <p>I've        │\n",
       "│     ┆             ┆ 7:07Z           ┆                 ┆       ┆ ecute() -       ┆ written a      │\n",
       "│     ┆             ┆                 ┆                 ┆       ┆ multipl…        ┆ database       │\n",
       "│     ┆             ┆                 ┆                 ┆       ┆                 ┆ gener…         │\n",
       "│ 90  ┆ 58          ┆ 2008-08-01T14:4 ┆ 2012-12-26T03:4 ┆ 144   ┆ Good branching  ┆ <p>Are there   │\n",
       "│     ┆             ┆ 1:24Z           ┆ 5:49Z           ┆       ┆ and merging     ┆ any really     │\n",
       "│     ┆             ┆                 ┆                 ┆       ┆ tutor…          ┆ good tut…      │\n",
       "│ 120 ┆ 83          ┆ 2008-08-01T15:5 ┆ NA              ┆ 21    ┆ ASP.NET Site    ┆ <p>Has anyone  │\n",
       "│     ┆             ┆ 0:08Z           ┆                 ┆       ┆ Maps            ┆ got experience │\n",
       "│     ┆             ┆                 ┆                 ┆       ┆                 ┆ cre…           │\n",
       "│ 180 ┆ 2089740     ┆ 2008-08-01T18:4 ┆ NA              ┆ 53    ┆ Function for    ┆ <p>This is     │\n",
       "│     ┆             ┆ 2:19Z           ┆                 ┆       ┆ creating color  ┆ something I've │\n",
       "│     ┆             ┆                 ┆                 ┆       ┆ whee…           ┆ pseudo…        │\n",
       "│ 260 ┆ 91          ┆ 2008-08-01T23:2 ┆ NA              ┆ 49    ┆ Adding          ┆ <p>I have a    │\n",
       "│     ┆             ┆ 2:08Z           ┆                 ┆       ┆ scripting       ┆ little game    │\n",
       "│     ┆             ┆                 ┆                 ┆       ┆ functionality   ┆ written …      │\n",
       "│     ┆             ┆                 ┆                 ┆       ┆ t…              ┆                │\n",
       "└─────┴─────────────┴─────────────────┴─────────────────┴───────┴─────────────────┴────────────────┘"
      ]
     },
     "execution_count": 3,
     "metadata": {},
     "output_type": "execute_result"
    }
   ],
   "source": [
    "df = pl.read_csv(\"data/01_raw/Questions.csv\", encoding=\"utf8-lossy\")\n",
    "df.head()"
   ]
  },
  {
   "cell_type": "code",
   "execution_count": 4,
   "id": "b9780083-ae0b-4901-ba92-21716fc9d533",
   "metadata": {
    "tags": []
   },
   "outputs": [
    {
     "data": {
      "text/html": [
       "<div><style>\n",
       ".dataframe > thead > tr > th,\n",
       ".dataframe > tbody > tr > td {\n",
       "  text-align: right;\n",
       "}\n",
       "</style>\n",
       "<small>shape: (5, 2)</small><table border=\"1\" class=\"dataframe\"><thead><tr><th>Id</th><th>Tag</th></tr><tr><td>i64</td><td>str</td></tr></thead><tbody><tr><td>80</td><td>&quot;flex&quot;</td></tr><tr><td>80</td><td>&quot;actionscript-3…</td></tr><tr><td>80</td><td>&quot;air&quot;</td></tr><tr><td>90</td><td>&quot;svn&quot;</td></tr><tr><td>90</td><td>&quot;tortoisesvn&quot;</td></tr></tbody></table></div>"
      ],
      "text/plain": [
       "shape: (5, 2)\n",
       "┌─────┬────────────────┐\n",
       "│ Id  ┆ Tag            │\n",
       "│ --- ┆ ---            │\n",
       "│ i64 ┆ str            │\n",
       "╞═════╪════════════════╡\n",
       "│ 80  ┆ flex           │\n",
       "│ 80  ┆ actionscript-3 │\n",
       "│ 80  ┆ air            │\n",
       "│ 90  ┆ svn            │\n",
       "│ 90  ┆ tortoisesvn    │\n",
       "└─────┴────────────────┘"
      ]
     },
     "execution_count": 4,
     "metadata": {},
     "output_type": "execute_result"
    }
   ],
   "source": [
    "tags = pl.read_csv(\"data/01_raw/Tags.csv\")\n",
    "tags.head()"
   ]
  },
  {
   "cell_type": "code",
   "execution_count": 5,
   "id": "b4012b83-b201-4b7c-95d8-31a78cefc932",
   "metadata": {
    "tags": []
   },
   "outputs": [
    {
     "data": {
      "text/plain": [
       "polars.dataframe.frame.DataFrame"
      ]
     },
     "execution_count": 5,
     "metadata": {},
     "output_type": "execute_result"
    }
   ],
   "source": [
    "type(df)"
   ]
  },
  {
   "cell_type": "code",
   "execution_count": 6,
   "id": "c9112210-bcff-4809-9547-74fa31bdab79",
   "metadata": {
    "tags": []
   },
   "outputs": [
    {
     "data": {
      "text/plain": [
       "(1264216, 3750994)"
      ]
     },
     "execution_count": 6,
     "metadata": {},
     "output_type": "execute_result"
    }
   ],
   "source": [
    "len(df), len(tags)"
   ]
  },
  {
   "cell_type": "code",
   "execution_count": 7,
   "id": "a731ace1-444a-4b72-a16f-012776f6841b",
   "metadata": {
    "tags": []
   },
   "outputs": [
    {
     "data": {
      "text/plain": [
       "[Int64, Utf8, Utf8, Utf8, Int64, Utf8, Utf8]"
      ]
     },
     "execution_count": 7,
     "metadata": {},
     "output_type": "execute_result"
    }
   ],
   "source": [
    "df.dtypes"
   ]
  },
  {
   "cell_type": "code",
   "execution_count": 8,
   "id": "3a980962-f741-4ebb-aa73-0ce2902b2aa5",
   "metadata": {
    "tags": []
   },
   "outputs": [
    {
     "name": "stdout",
     "output_type": "stream",
     "text": [
      "Estimated size: 1866 MiB\n"
     ]
    }
   ],
   "source": [
    "print(f\"Estimated size: {df.estimated_size() >> 20} MiB\")"
   ]
  },
  {
   "cell_type": "code",
   "execution_count": 9,
   "id": "6f6e5da8-1bfa-4c81-8ac6-435f126e3ffc",
   "metadata": {
    "tags": []
   },
   "outputs": [
    {
     "name": "stdout",
     "output_type": "stream",
     "text": [
      "shape: (3, 7)\n",
      "┌─────┬─────────────┬─────────────────┬─────────────────┬───────┬─────────────────┬────────────────┐\n",
      "│ Id  ┆ OwnerUserId ┆ CreationDate    ┆ ClosedDate      ┆ Score ┆ Title           ┆ Body           │\n",
      "│ --- ┆ ---         ┆ ---             ┆ ---             ┆ ---   ┆ ---             ┆ ---            │\n",
      "│ i64 ┆ str         ┆ str             ┆ str             ┆ i64   ┆ str             ┆ str            │\n",
      "╞═════╪═════════════╪═════════════════╪═════════════════╪═══════╪═════════════════╪════════════════╡\n",
      "│ 80  ┆ 26          ┆ 2008-08-01T13:5 ┆ NA              ┆ 26    ┆ SQLStatement.ex ┆ <p>I've        │\n",
      "│     ┆             ┆ 7:07Z           ┆                 ┆       ┆ ecute() -       ┆ written a      │\n",
      "│     ┆             ┆                 ┆                 ┆       ┆ multipl…        ┆ database       │\n",
      "│     ┆             ┆                 ┆                 ┆       ┆                 ┆ gener…         │\n",
      "│ 90  ┆ 58          ┆ 2008-08-01T14:4 ┆ 2012-12-26T03:4 ┆ 144   ┆ Good branching  ┆ <p>Are there   │\n",
      "│     ┆             ┆ 1:24Z           ┆ 5:49Z           ┆       ┆ and merging     ┆ any really     │\n",
      "│     ┆             ┆                 ┆                 ┆       ┆ tutor…          ┆ good tut…      │\n",
      "│ 120 ┆ 83          ┆ 2008-08-01T15:5 ┆ NA              ┆ 21    ┆ ASP.NET Site    ┆ <p>Has anyone  │\n",
      "│     ┆             ┆ 0:08Z           ┆                 ┆       ┆ Maps            ┆ got experience │\n",
      "│     ┆             ┆                 ┆                 ┆       ┆                 ┆ cre…           │\n",
      "└─────┴─────────────┴─────────────────┴─────────────────┴───────┴─────────────────┴────────────────┘\n"
     ]
    }
   ],
   "source": [
    "print(df.head(3))"
   ]
  },
  {
   "cell_type": "code",
   "execution_count": 10,
   "id": "70fd1ca5-985a-4935-aa8c-1f1575ac6ea0",
   "metadata": {
    "tags": []
   },
   "outputs": [
    {
     "data": {
      "text/html": [
       "<div><style>\n",
       ".dataframe > thead > tr > th,\n",
       ".dataframe > tbody > tr > td {\n",
       "  text-align: right;\n",
       "}\n",
       "</style>\n",
       "<small>shape: (9, 8)</small><table border=\"1\" class=\"dataframe\"><thead><tr><th>describe</th><th>Id</th><th>OwnerUserId</th><th>CreationDate</th><th>ClosedDate</th><th>Score</th><th>Title</th><th>Body</th></tr><tr><td>str</td><td>f64</td><td>str</td><td>str</td><td>str</td><td>f64</td><td>str</td><td>str</td></tr></thead><tbody><tr><td>&quot;count&quot;</td><td>1.264216e6</td><td>&quot;1264216&quot;</td><td>&quot;1264216&quot;</td><td>&quot;1264216&quot;</td><td>1.264216e6</td><td>&quot;1264216&quot;</td><td>&quot;1264216&quot;</td></tr><tr><td>&quot;null_count&quot;</td><td>0.0</td><td>&quot;0&quot;</td><td>&quot;0&quot;</td><td>&quot;0&quot;</td><td>0.0</td><td>&quot;0&quot;</td><td>&quot;0&quot;</td></tr><tr><td>&quot;mean&quot;</td><td>2.1327e7</td><td>null</td><td>null</td><td>null</td><td>1.781537</td><td>null</td><td>null</td></tr><tr><td>&quot;std&quot;</td><td>1.1514e7</td><td>null</td><td>null</td><td>null</td><td>13.663886</td><td>null</td><td>null</td></tr><tr><td>&quot;min&quot;</td><td>80.0</td><td>&quot;1&quot;</td><td>&quot;2008-08-01T13:…</td><td>&quot;2008-09-24T19:…</td><td>-73.0</td><td>&quot;    java.lang.…</td><td>&quot;\n",
       "\n",
       "&lt;h1&gt;Backgrou…</td></tr><tr><td>&quot;max&quot;</td><td>4.014338e7</td><td>&quot;NA&quot;</td><td>&quot;2016-10-19T23:…</td><td>&quot;NA&quot;</td><td>5190.0</td><td>&quot;￼-bash: babel-…</td><td>&quot;When user writ…</td></tr><tr><td>&quot;median&quot;</td><td>2.1725415e7</td><td>null</td><td>null</td><td>null</td><td>0.0</td><td>null</td><td>null</td></tr><tr><td>&quot;25%&quot;</td><td>1.142599e7</td><td>null</td><td>null</td><td>null</td><td>0.0</td><td>null</td><td>null</td></tr><tr><td>&quot;75%&quot;</td><td>3.154543e7</td><td>null</td><td>null</td><td>null</td><td>1.0</td><td>null</td><td>null</td></tr></tbody></table></div>"
      ],
      "text/plain": [
       "shape: (9, 8)\n",
       "┌────────────┬────────────┬───────────┬────────────┬──────────┬────────────┬───────────┬───────────┐\n",
       "│ describe   ┆ Id         ┆ OwnerUser ┆ CreationDa ┆ ClosedDa ┆ Score      ┆ Title     ┆ Body      │\n",
       "│ ---        ┆ ---        ┆ Id        ┆ te         ┆ te       ┆ ---        ┆ ---       ┆ ---       │\n",
       "│ str        ┆ f64        ┆ ---       ┆ ---        ┆ ---      ┆ f64        ┆ str       ┆ str       │\n",
       "│            ┆            ┆ str       ┆ str        ┆ str      ┆            ┆           ┆           │\n",
       "╞════════════╪════════════╪═══════════╪════════════╪══════════╪════════════╪═══════════╪═══════════╡\n",
       "│ count      ┆ 1.264216e6 ┆ 1264216   ┆ 1264216    ┆ 1264216  ┆ 1.264216e6 ┆ 1264216   ┆ 1264216   │\n",
       "│ null_count ┆ 0.0        ┆ 0         ┆ 0          ┆ 0        ┆ 0.0        ┆ 0         ┆ 0         │\n",
       "│ mean       ┆ 2.1327e7   ┆ null      ┆ null       ┆ null     ┆ 1.781537   ┆ null      ┆ null      │\n",
       "│ std        ┆ 1.1514e7   ┆ null      ┆ null       ┆ null     ┆ 13.663886  ┆ null      ┆ null      │\n",
       "│ min        ┆ 80.0       ┆ 1         ┆ 2008-08-01 ┆ 2008-09- ┆ -73.0      ┆ java.lang ┆           │\n",
       "│            ┆            ┆           ┆ T13:57:07Z ┆ 24T19:20 ┆            ┆ .NoClassD ┆           │\n",
       "│            ┆            ┆           ┆            ┆ :10Z     ┆            ┆ efFoundEr ┆ <h1>Backg │\n",
       "│            ┆            ┆           ┆            ┆          ┆            ┆ r…        ┆ round</h1 │\n",
       "│            ┆            ┆           ┆            ┆          ┆            ┆           ┆ >         │\n",
       "│            ┆            ┆           ┆            ┆          ┆            ┆           ┆           │\n",
       "│            ┆            ┆           ┆            ┆          ┆            ┆           ┆ <p>I      │\n",
       "│            ┆            ┆           ┆            ┆          ┆            ┆           ┆ have…     │\n",
       "│ max        ┆ 4.014338e7 ┆ NA        ┆ 2016-10-19 ┆ NA       ┆ 5190.0     ┆ ￼-bash:   ┆ When user │\n",
       "│            ┆            ┆           ┆ T23:57:31Z ┆          ┆            ┆ babel-nod ┆ write htt │\n",
       "│            ┆            ┆           ┆            ┆          ┆            ┆ e:        ┆ p://nexte │\n",
       "│            ┆            ┆           ┆            ┆          ┆            ┆ command   ┆ ch.p…     │\n",
       "│            ┆            ┆           ┆            ┆          ┆            ┆ not …     ┆           │\n",
       "│ median     ┆ 2.1725415e ┆ null      ┆ null       ┆ null     ┆ 0.0        ┆ null      ┆ null      │\n",
       "│            ┆ 7          ┆           ┆            ┆          ┆            ┆           ┆           │\n",
       "│ 25%        ┆ 1.142599e7 ┆ null      ┆ null       ┆ null     ┆ 0.0        ┆ null      ┆ null      │\n",
       "│ 75%        ┆ 3.154543e7 ┆ null      ┆ null       ┆ null     ┆ 1.0        ┆ null      ┆ null      │\n",
       "└────────────┴────────────┴───────────┴────────────┴──────────┴────────────┴───────────┴───────────┘"
      ]
     },
     "execution_count": 10,
     "metadata": {},
     "output_type": "execute_result"
    }
   ],
   "source": [
    "df.describe()"
   ]
  },
  {
   "cell_type": "code",
   "execution_count": 11,
   "id": "47444da4-3311-4818-9f7a-45799801051a",
   "metadata": {
    "tags": []
   },
   "outputs": [
    {
     "data": {
      "text/html": [
       "<div><style>\n",
       ".dataframe > thead > tr > th,\n",
       ".dataframe > tbody > tr > td {\n",
       "  text-align: right;\n",
       "}\n",
       "</style>\n",
       "<small>shape: (5, 2)</small><table border=\"1\" class=\"dataframe\"><thead><tr><th>Tag</th><th>counts</th></tr><tr><td>str</td><td>u32</td></tr></thead><tbody><tr><td>&quot;javascript&quot;</td><td>124155</td></tr><tr><td>&quot;java&quot;</td><td>115212</td></tr><tr><td>&quot;c#&quot;</td><td>101186</td></tr><tr><td>&quot;php&quot;</td><td>98808</td></tr><tr><td>&quot;android&quot;</td><td>90659</td></tr></tbody></table></div>"
      ],
      "text/plain": [
       "shape: (5, 2)\n",
       "┌────────────┬────────┐\n",
       "│ Tag        ┆ counts │\n",
       "│ ---        ┆ ---    │\n",
       "│ str        ┆ u32    │\n",
       "╞════════════╪════════╡\n",
       "│ javascript ┆ 124155 │\n",
       "│ java       ┆ 115212 │\n",
       "│ c#         ┆ 101186 │\n",
       "│ php        ┆ 98808  │\n",
       "│ android    ┆ 90659  │\n",
       "└────────────┴────────┘"
      ]
     },
     "execution_count": 11,
     "metadata": {},
     "output_type": "execute_result"
    }
   ],
   "source": [
    "tags[\"Tag\"].value_counts().sort(\"counts\", descending=True).head()"
   ]
  },
  {
   "cell_type": "markdown",
   "id": "519736b9-7e0d-465c-938d-cf410019a5ef",
   "metadata": {},
   "source": [
    "## Expressions as chained operations on columns"
   ]
  },
  {
   "cell_type": "code",
   "execution_count": 12,
   "id": "8f281065-7a0b-48dd-a48d-f0c243d7c115",
   "metadata": {
    "tags": []
   },
   "outputs": [
    {
     "data": {
      "text/html": [
       "col(\"Score\").median()"
      ],
      "text/plain": [
       "<polars.expr.expr.Expr at 0x118ef4cd0>"
      ]
     },
     "execution_count": 12,
     "metadata": {},
     "output_type": "execute_result"
    }
   ],
   "source": [
    "(\n",
    "    pl.col(\"Score\")\n",
    "    .median()\n",
    ")"
   ]
  },
  {
   "cell_type": "code",
   "execution_count": 13,
   "id": "df476c33-f255-4624-a365-1080b4f35f4c",
   "metadata": {
    "tags": []
   },
   "outputs": [
    {
     "name": "stdout",
     "output_type": "stream",
     "text": [
      "shape: (1, 1)\n",
      "┌──────────┐\n",
      "│ Score    │\n",
      "│ ---      │\n",
      "│ f64      │\n",
      "╞══════════╡\n",
      "│ 1.781537 │\n",
      "└──────────┘\n"
     ]
    }
   ],
   "source": [
    "print(df.select(pl.col(\"Score\").mean()))"
   ]
  },
  {
   "cell_type": "code",
   "execution_count": 14,
   "id": "f08eacec-de7a-44ed-b35f-268369405915",
   "metadata": {
    "tags": []
   },
   "outputs": [
    {
     "name": "stdout",
     "output_type": "stream",
     "text": [
      "shape: (1, 3)\n",
      "┌──────────────────┬────────────┬──────────────────┐\n",
      "│ num_unique_users ┆ mean_score ┆ max_title_length │\n",
      "│ ---              ┆ ---        ┆ ---              │\n",
      "│ u32              ┆ f64        ┆ u32              │\n",
      "╞══════════════════╪════════════╪══════════════════╡\n",
      "│ 1264216          ┆ 1.781537   ┆ 204              │\n",
      "└──────────────────┴────────────┴──────────────────┘\n"
     ]
    }
   ],
   "source": [
    "print(df.select([\n",
    "    pl.col(\"Id\").n_unique().alias(\"num_unique_users\"),\n",
    "    pl.col(\"Score\").mean().alias(\"mean_score\"),\n",
    "    pl.col(\"Title\").str.lengths().max().alias(\"max_title_length\"),\n",
    "    # pl.col(pl.Utf8).str.lengths().max().suffix(\"_max_length\"),\n",
    "]))"
   ]
  },
  {
   "cell_type": "code",
   "execution_count": 15,
   "id": "7ffda3eb-8781-4f5c-9806-5a1ddb3132c3",
   "metadata": {
    "tags": []
   },
   "outputs": [
    {
     "data": {
      "text/html": [
       "col(\"Tag\").arr.len()"
      ],
      "text/plain": [
       "<polars.expr.expr.Expr at 0x118ef6b10>"
      ]
     },
     "execution_count": 15,
     "metadata": {},
     "output_type": "execute_result"
    }
   ],
   "source": [
    "pl.col(\"Tag\").arr.lengths()"
   ]
  },
  {
   "cell_type": "markdown",
   "id": "f99d18fa-64a3-434c-b235-17716d0bf775",
   "metadata": {},
   "source": [
    "### The power of laziness"
   ]
  },
  {
   "cell_type": "code",
   "execution_count": 16,
   "id": "41ea7336-bbc4-492a-b0d0-37aa0d0b55e5",
   "metadata": {
    "tags": []
   },
   "outputs": [],
   "source": [
    "# Don't try this at home unless you have enough RAM!\n",
    "# (\n",
    "#     df\n",
    "#     .join(tags, on=\"Id\")\n",
    "#     .filter(pl.col(\"Tag\").str.to_lowercase().str.contains(\"python\"))\n",
    "#     .sort(\"Id\")\n",
    "# )"
   ]
  },
  {
   "cell_type": "code",
   "execution_count": 17,
   "id": "fcda1b67-5bd4-48d6-9752-a5b3786db725",
   "metadata": {
    "tags": []
   },
   "outputs": [
    {
     "name": "stdout",
     "output_type": "stream",
     "text": [
      "shape: (3, 7)\n",
      "┌───────┬─────────────┬──────────────────┬────────────┬───────┬──────────────────┬─────────────────┐\n",
      "│ Id    ┆ OwnerUserId ┆ CreationDate     ┆ ClosedDate ┆ Score ┆ Title            ┆ Body            │\n",
      "│ ---   ┆ ---         ┆ ---              ┆ ---        ┆ ---   ┆ ---              ┆ ---             │\n",
      "│ i64   ┆ str         ┆ str              ┆ str        ┆ i64   ┆ str              ┆ str             │\n",
      "╞═══════╪═════════════╪══════════════════╪════════════╪═══════╪══════════════════╪═════════════════╡\n",
      "│ 11060 ┆ 912         ┆ 2008-08-14T13:59 ┆ NA         ┆ 18    ┆ How should I     ┆ <p>This is a    │\n",
      "│       ┆             ┆ :21Z             ┆            ┆       ┆ unit test a      ┆ difficult and   │\n",
      "│       ┆             ┆                  ┆            ┆       ┆ code-ge…         ┆ open-…          │\n",
      "│ 17250 ┆ 394         ┆ 2008-08-20T00:16 ┆ NA         ┆ 24    ┆ Create an        ┆ <p>I'm creating │\n",
      "│       ┆             ┆ :40Z             ┆            ┆       ┆ encrypted ZIP    ┆ an ZIP file     │\n",
      "│       ┆             ┆                  ┆            ┆       ┆ file in …        ┆ with…           │\n",
      "│ 19030 ┆ 745         ┆ 2008-08-20T22:50 ┆ NA         ┆ 2     ┆ How to check set ┆ <p>I have a     │\n",
      "│       ┆             ┆ :55Z             ┆            ┆       ┆ of files confor… ┆ bunch of files  │\n",
      "│       ┆             ┆                  ┆            ┆       ┆                  ┆ (TV e…          │\n",
      "└───────┴─────────────┴──────────────────┴────────────┴───────┴──────────────────┴─────────────────┘\n"
     ]
    }
   ],
   "source": [
    "q_python = (\n",
    "    df.lazy()  # Notice the .lazy() call\n",
    "    # The input of a lazy join needs to be lazy\n",
    "    # We use a 'semi' join, like 'inner' but discarding extra columns\n",
    "    .join(tags.lazy(), on=\"Id\", how=\"semi\")\n",
    "    .filter(pl.col(\"Tag\").str.to_lowercase().str.contains(\"python\"))\n",
    "    .sort(\"Id\")\n",
    ").collect()  # Call .collect() at the end\n",
    "print(q_python.head(3))"
   ]
  },
  {
   "cell_type": "markdown",
   "id": "100f4794-7518-4c96-a149-aa4441f87656",
   "metadata": {},
   "source": [
    "<div class=\"alert alert-warning\">If your computer has low RAM, avoid loading the Questions dataset twice: restart the kernel now!</div>"
   ]
  },
  {
   "cell_type": "code",
   "execution_count": 1,
   "id": "dfadf18a-5ff3-494f-a785-1169ecf1cf94",
   "metadata": {},
   "outputs": [],
   "source": [
    "import polars as pl"
   ]
  },
  {
   "cell_type": "code",
   "execution_count": 2,
   "id": "4f688546-1812-4df7-82f1-889159646b3d",
   "metadata": {},
   "outputs": [],
   "source": [
    "tags = pl.read_csv(\"data/01_raw/Tags.csv\")"
   ]
  },
  {
   "cell_type": "code",
   "execution_count": 3,
   "id": "66bde06f-1793-4530-b89d-71e77558d9e0",
   "metadata": {
    "tags": []
   },
   "outputs": [],
   "source": [
    "plan = (\n",
    "    # scan_csv returns a lazy dataframe already\n",
    "    pl.scan_csv(\"data/01_raw/Questions.csv\", encoding=\"utf8-lossy\")\n",
    "    .join(tags.lazy(), on=\"Id\", how=\"semi\")\n",
    "    .filter(pl.col(\"Tag\").str.to_lowercase().str.contains(\"python\"))\n",
    "    .sort(\"Score\", descending=True)\n",
    "    .limit(1_000)\n",
    ")\n",
    "top_voted_python_qs = plan.collect()"
   ]
  },
  {
   "cell_type": "code",
   "execution_count": 4,
   "id": "ae771b5a-5121-4d29-84e5-2b71577de226",
   "metadata": {
    "tags": []
   },
   "outputs": [
    {
     "data": {
      "image/svg+xml": [
       "<svg xmlns=\"http://www.w3.org/2000/svg\" xmlns:xlink=\"http://www.w3.org/1999/xlink\" width=\"325pt\" height=\"375pt\" viewBox=\"0.00 0.00 325.38 375.00\">\n",
       "<g id=\"graph0\" class=\"graph\" transform=\"scale(1 1) rotate(0) translate(4 371)\">\n",
       "<title>polars_query</title>\n",
       "<polygon fill=\"white\" stroke=\"none\" points=\"-4,4 -4,-371 321.38,-371 321.38,4 -4,4\"/>\n",
       "<!-- SLICE offset: 0; len: 1000 [(0, 0)] -->\n",
       "<g id=\"node1\" class=\"node\">\n",
       "<title>SLICE offset: 0; len: 1000 [(0, 0)]</title>\n",
       "<polygon fill=\"none\" stroke=\"black\" points=\"279.88,-367 119.12,-367 119.12,-331 279.88,-331 279.88,-367\"/>\n",
       "<text text-anchor=\"middle\" x=\"199.5\" y=\"-343.95\" font-family=\"Times,serif\" font-size=\"14.00\">SLICE offset: 0; len: 1000</text>\n",
       "</g>\n",
       "<!-- SORT BY [col(&quot;Score&quot;)] [(0, 1)] -->\n",
       "<g id=\"node2\" class=\"node\">\n",
       "<title>SORT BY [col(&quot;Score&quot;)] [(0, 1)]</title>\n",
       "<polygon fill=\"none\" stroke=\"black\" points=\"275.75,-295 123.25,-295 123.25,-259 275.75,-259 275.75,-295\"/>\n",
       "<text text-anchor=\"middle\" x=\"199.5\" y=\"-271.95\" font-family=\"Times,serif\" font-size=\"14.00\">SORT BY [col(&quot;Score&quot;)]</text>\n",
       "</g>\n",
       "<!-- SLICE offset: 0; len: 1000 [(0, 0)]&#45;&#45;SORT BY [col(&quot;Score&quot;)] [(0, 1)] -->\n",
       "<g id=\"edge1\" class=\"edge\">\n",
       "<title>SLICE offset: 0; len: 1000 [(0, 0)]--SORT BY [col(&quot;Score&quot;)] [(0, 1)]</title>\n",
       "<path fill=\"none\" stroke=\"black\" d=\"M199.5,-330.7C199.5,-319.85 199.5,-305.92 199.5,-295.1\"/>\n",
       "</g>\n",
       "<!-- FILTER BY col(&quot;Tag&quot;).str.lowercase(... [(0, 2)] -->\n",
       "<g id=\"node3\" class=\"node\">\n",
       "<title>FILTER BY col(&quot;Tag&quot;).str.lowercase(... [(0, 2)]</title>\n",
       "<polygon fill=\"none\" stroke=\"black\" points=\"317.38,-223 81.62,-223 81.62,-187 317.38,-187 317.38,-223\"/>\n",
       "<text text-anchor=\"middle\" x=\"199.5\" y=\"-199.95\" font-family=\"Times,serif\" font-size=\"14.00\">FILTER BY col(&quot;Tag&quot;).str.lowercase(...</text>\n",
       "</g>\n",
       "<!-- SORT BY [col(&quot;Score&quot;)] [(0, 1)]&#45;&#45;FILTER BY col(&quot;Tag&quot;).str.lowercase(... [(0, 2)] -->\n",
       "<g id=\"edge2\" class=\"edge\">\n",
       "<title>SORT BY [col(&quot;Score&quot;)] [(0, 1)]--FILTER BY col(&quot;Tag&quot;).str.lowercase(... [(0, 2)]</title>\n",
       "<path fill=\"none\" stroke=\"black\" d=\"M199.5,-258.7C199.5,-247.85 199.5,-233.92 199.5,-223.1\"/>\n",
       "</g>\n",
       "<!-- JOIN SEMI\n",
       " &#160;&#160;&#160;&#160;&#160;&#160;&#160;&#160;&#160;&#160;&#160;&#160;&#160;&#160;&#160;&#160;&#160;&#160;&#160;left [col(&quot;Id&quot;)];\n",
       " &#160;&#160;&#160;&#160;&#160;&#160;&#160;&#160;&#160;&#160;&#160;&#160;&#160;&#160;&#160;&#160;&#160;&#160;&#160;right: [col(&quot;Id&quot;)] [(0, 3)] -->\n",
       "<g id=\"node4\" class=\"node\">\n",
       "<title>JOIN SEMI\n",
       "                    left [col(&quot;Id&quot;)];\n",
       "                    right: [col(&quot;Id&quot;)] [(0, 3)]</title>\n",
       "<polygon fill=\"none\" stroke=\"black\" points=\"290.38,-151 108.62,-151 108.62,-93.5 290.38,-93.5 290.38,-151\"/>\n",
       "<text text-anchor=\"middle\" x=\"199.5\" y=\"-133.7\" font-family=\"Times,serif\" font-size=\"14.00\">JOIN SEMI</text>\n",
       "<text text-anchor=\"middle\" x=\"199.5\" y=\"-117.2\" font-family=\"Times,serif\" font-size=\"14.00\">                    left [col(&quot;Id&quot;)];</text>\n",
       "<text text-anchor=\"middle\" x=\"199.5\" y=\"-100.7\" font-family=\"Times,serif\" font-size=\"14.00\">                    right: [col(&quot;Id&quot;)]</text>\n",
       "</g>\n",
       "<!-- FILTER BY col(&quot;Tag&quot;).str.lowercase(... [(0, 2)]&#45;&#45;JOIN SEMI\n",
       " &#160;&#160;&#160;&#160;&#160;&#160;&#160;&#160;&#160;&#160;&#160;&#160;&#160;&#160;&#160;&#160;&#160;&#160;&#160;left [col(&quot;Id&quot;)];\n",
       " &#160;&#160;&#160;&#160;&#160;&#160;&#160;&#160;&#160;&#160;&#160;&#160;&#160;&#160;&#160;&#160;&#160;&#160;&#160;right: [col(&quot;Id&quot;)] [(0, 3)] -->\n",
       "<g id=\"edge3\" class=\"edge\">\n",
       "<title>FILTER BY col(&quot;Tag&quot;).str.lowercase(... [(0, 2)]--JOIN SEMI\n",
       "                    left [col(&quot;Id&quot;)];\n",
       "                    right: [col(&quot;Id&quot;)] [(0, 3)]</title>\n",
       "<path fill=\"none\" stroke=\"black\" d=\"M199.5,-186.88C199.5,-176.6 199.5,-163.27 199.5,-151.47\"/>\n",
       "</g>\n",
       "<!-- CSV SCAN data/01_raw/Questions.csv;\n",
       "π */7;\n",
       "σ &#45; [(100, 4)] -->\n",
       "<g id=\"node5\" class=\"node\">\n",
       "<title>CSV SCAN data/01_raw/Questions.csv;\n",
       "π */7;\n",
       "σ - [(100, 4)]</title>\n",
       "<polygon fill=\"none\" stroke=\"black\" points=\"235,-57.5 0,-57.5 0,0 235,0 235,-57.5\"/>\n",
       "<text text-anchor=\"middle\" x=\"117.5\" y=\"-40.2\" font-family=\"Times,serif\" font-size=\"14.00\">CSV SCAN data/01_raw/Questions.csv;</text>\n",
       "<text text-anchor=\"middle\" x=\"117.5\" y=\"-23.7\" font-family=\"Times,serif\" font-size=\"14.00\">π */7;</text>\n",
       "<text text-anchor=\"middle\" x=\"117.5\" y=\"-7.2\" font-family=\"Times,serif\" font-size=\"14.00\">σ -</text>\n",
       "</g>\n",
       "<!-- JOIN SEMI\n",
       " &#160;&#160;&#160;&#160;&#160;&#160;&#160;&#160;&#160;&#160;&#160;&#160;&#160;&#160;&#160;&#160;&#160;&#160;&#160;left [col(&quot;Id&quot;)];\n",
       " &#160;&#160;&#160;&#160;&#160;&#160;&#160;&#160;&#160;&#160;&#160;&#160;&#160;&#160;&#160;&#160;&#160;&#160;&#160;right: [col(&quot;Id&quot;)] [(0, 3)]&#45;&#45;CSV SCAN data/01_raw/Questions.csv;\n",
       "π */7;\n",
       "σ &#45; [(100, 4)] -->\n",
       "<g id=\"edge4\" class=\"edge\">\n",
       "<title>JOIN SEMI\n",
       "                    left [col(&quot;Id&quot;)];\n",
       "                    right: [col(&quot;Id&quot;)] [(0, 3)]--CSV SCAN data/01_raw/Questions.csv;\n",
       "π */7;\n",
       "σ - [(100, 4)]</title>\n",
       "<path fill=\"none\" stroke=\"black\" d=\"M174.45,-93.3C164.37,-82.05 152.77,-69.11 142.68,-57.84\"/>\n",
       "</g>\n",
       "<!-- TABLE\n",
       "π */2;\n",
       "σ &#45;; [(200, 4)] -->\n",
       "<g id=\"node6\" class=\"node\">\n",
       "<title>TABLE\n",
       "π */2;\n",
       "σ -; [(200, 4)]</title>\n",
       "<polygon fill=\"none\" stroke=\"black\" points=\"312.25,-57.5 252.75,-57.5 252.75,0 312.25,0 312.25,-57.5\"/>\n",
       "<text text-anchor=\"middle\" x=\"282.5\" y=\"-40.2\" font-family=\"Times,serif\" font-size=\"14.00\">TABLE</text>\n",
       "<text text-anchor=\"middle\" x=\"282.5\" y=\"-23.7\" font-family=\"Times,serif\" font-size=\"14.00\">π */2;</text>\n",
       "<text text-anchor=\"middle\" x=\"282.5\" y=\"-7.2\" font-family=\"Times,serif\" font-size=\"14.00\">σ -;</text>\n",
       "</g>\n",
       "<!-- JOIN SEMI\n",
       " &#160;&#160;&#160;&#160;&#160;&#160;&#160;&#160;&#160;&#160;&#160;&#160;&#160;&#160;&#160;&#160;&#160;&#160;&#160;left [col(&quot;Id&quot;)];\n",
       " &#160;&#160;&#160;&#160;&#160;&#160;&#160;&#160;&#160;&#160;&#160;&#160;&#160;&#160;&#160;&#160;&#160;&#160;&#160;right: [col(&quot;Id&quot;)] [(0, 3)]&#45;&#45;TABLE\n",
       "π */2;\n",
       "σ &#45;; [(200, 4)] -->\n",
       "<g id=\"edge5\" class=\"edge\">\n",
       "<title>JOIN SEMI\n",
       "                    left [col(&quot;Id&quot;)];\n",
       "                    right: [col(&quot;Id&quot;)] [(0, 3)]--TABLE\n",
       "π */2;\n",
       "σ -; [(200, 4)]</title>\n",
       "<path fill=\"none\" stroke=\"black\" d=\"M224.85,-93.3C235.06,-82.05 246.8,-69.11 257.02,-57.84\"/>\n",
       "</g>\n",
       "</g>\n",
       "</svg>"
      ],
      "text/plain": [
       "<IPython.core.display.SVG object>"
      ]
     },
     "metadata": {},
     "output_type": "display_data"
    }
   ],
   "source": [
    "plan.show_graph(optimized=False)"
   ]
  },
  {
   "cell_type": "markdown",
   "id": "6bf49f03-5f8f-4910-a531-b5515f5faa8e",
   "metadata": {},
   "source": [
    "### Working with columns of lists"
   ]
  },
  {
   "cell_type": "code",
   "execution_count": 5,
   "id": "cd2fc401-4251-4134-9921-97909d6afd36",
   "metadata": {
    "tags": []
   },
   "outputs": [
    {
     "name": "stdout",
     "output_type": "stream",
     "text": [
      "shape: (5, 2)\n",
      "┌──────────┬───────────────────────────────────┐\n",
      "│ Id       ┆ TagList                           │\n",
      "│ ---      ┆ ---                               │\n",
      "│ i64      ┆ list[str]                         │\n",
      "╞══════════╪═══════════════════════════════════╡\n",
      "│ 17467640 ┆ [\"php\", \"jquery\", … \"jquery-mobi… │\n",
      "│ 5293920  ┆ [\"ckeditor\"]                      │\n",
      "│ 24606760 ┆ [\"php\", \"mysql\", … \"database\"]    │\n",
      "│ 32842200 ┆ [\"java\", \"treeview\", … \"eclipse-… │\n",
      "│ 38673920 ┆ [\"visualsvn-server\"]              │\n",
      "└──────────┴───────────────────────────────────┘\n"
     ]
    }
   ],
   "source": [
    "tag_list_lazy = (\n",
    "    tags.lazy()\n",
    "    .groupby(\"Id\").agg(\n",
    "        pl.col(\"Tag\")\n",
    "        .alias(\"TagList\")\n",
    "    )\n",
    ")\n",
    "print(tag_list_lazy.limit(5).collect())"
   ]
  },
  {
   "cell_type": "code",
   "execution_count": 6,
   "id": "71cce525-a05e-44a9-b874-f22e44c87883",
   "metadata": {
    "tags": []
   },
   "outputs": [
    {
     "data": {
      "text/html": [
       "<div><style>\n",
       ".dataframe > thead > tr > th,\n",
       ".dataframe > tbody > tr > td {\n",
       "  text-align: right;\n",
       "}\n",
       "</style>\n",
       "<small>shape: (10, 3)</small><table border=\"1\" class=\"dataframe\"><thead><tr><th>Id</th><th>TagList</th><th>ContainsPython</th></tr><tr><td>i64</td><td>list[str]</td><td>bool</td></tr></thead><tbody><tr><td>40143380</td><td>[&quot;npm&quot;, &quot;mocha&quot;, &quot;babel&quot;]</td><td>false</td></tr><tr><td>40143360</td><td>[&quot;javascript&quot;, &quot;vue.js&quot;]</td><td>false</td></tr><tr><td>40143340</td><td>[&quot;android&quot;, &quot;android-studio&quot;]</td><td>false</td></tr><tr><td>40143300</td><td>[&quot;google-bigquery&quot;]</td><td>false</td></tr><tr><td>40143210</td><td>[&quot;php&quot;, &quot;.htaccess&quot;]</td><td>false</td></tr><tr><td>40143190</td><td>[&quot;python&quot;, &quot;bash&quot;, &quot;multiline&quot;]</td><td>true</td></tr><tr><td>40143170</td><td>[&quot;laravel&quot;, &quot;binding&quot;, … &quot;routes&quot;]</td><td>false</td></tr><tr><td>40143150</td><td>[&quot;javascript&quot;, &quot;youtube&quot;, &quot;youtube-iframe-api&quot;]</td><td>false</td></tr><tr><td>40143140</td><td>[&quot;spring-data-rest&quot;]</td><td>false</td></tr><tr><td>40143110</td><td>[&quot;android&quot;, &quot;android-activity&quot;, &quot;android-lifecycle&quot;]</td><td>false</td></tr></tbody></table></div>"
      ],
      "text/plain": [
       "shape: (10, 3)\n",
       "┌──────────┬───────────────────────────────────┬────────────────┐\n",
       "│ Id       ┆ TagList                           ┆ ContainsPython │\n",
       "│ ---      ┆ ---                               ┆ ---            │\n",
       "│ i64      ┆ list[str]                         ┆ bool           │\n",
       "╞══════════╪═══════════════════════════════════╪════════════════╡\n",
       "│ 40143380 ┆ [\"npm\", \"mocha\", \"babel\"]         ┆ false          │\n",
       "│ 40143360 ┆ [\"javascript\", \"vue.js\"]          ┆ false          │\n",
       "│ 40143340 ┆ [\"android\", \"android-studio\"]     ┆ false          │\n",
       "│ 40143300 ┆ [\"google-bigquery\"]               ┆ false          │\n",
       "│ …        ┆ …                                 ┆ …              │\n",
       "│ 40143170 ┆ [\"laravel\", \"binding\", … \"routes… ┆ false          │\n",
       "│ 40143150 ┆ [\"javascript\", \"youtube\", \"youtu… ┆ false          │\n",
       "│ 40143140 ┆ [\"spring-data-rest\"]              ┆ false          │\n",
       "│ 40143110 ┆ [\"android\", \"android-activity\", … ┆ false          │\n",
       "└──────────┴───────────────────────────────────┴────────────────┘"
      ]
     },
     "execution_count": 6,
     "metadata": {},
     "output_type": "execute_result"
    }
   ],
   "source": [
    "tag_list_extended_lazy = tag_list_lazy.with_columns(\n",
    "    pl.col(\"TagList\")\n",
    "    .arr.eval(\n",
    "        pl.element()\n",
    "        .str.to_lowercase()\n",
    "        .str.contains(\"python\")\n",
    "        .any()\n",
    "    ).flatten().alias(\"ContainsPython\")\n",
    ")\n",
    "tag_list_extended_lazy.sort(\"Id\", descending=True).limit(10).collect()"
   ]
  },
  {
   "cell_type": "code",
   "execution_count": 7,
   "id": "ae6eff3b-a8b4-4483-b82e-13e069842116",
   "metadata": {
    "tags": []
   },
   "outputs": [],
   "source": [
    "top_python_questions = (\n",
    "    pl.scan_csv(\"./data/01_raw/Questions.csv\", encoding=\"utf8-lossy\")\n",
    "    .join(tag_list_extended_lazy, on=\"Id\")\n",
    "    .filter(pl.col(\"ContainsPython\"))\n",
    "    .top_k(1000, by=\"Score\")\n",
    ").collect()"
   ]
  },
  {
   "cell_type": "code",
   "execution_count": 8,
   "id": "6fc6ab0b-0e9e-4127-b5e4-b43d438f420c",
   "metadata": {},
   "outputs": [
    {
     "data": {
      "text/plain": [
       "polars.config.Config"
      ]
     },
     "execution_count": 8,
     "metadata": {},
     "output_type": "execute_result"
    }
   ],
   "source": [
    "pl.Config.set_fmt_str_lengths(100)"
   ]
  },
  {
   "cell_type": "code",
   "execution_count": 9,
   "id": "505d8920-33ee-4bbf-ac60-de4c8087b43b",
   "metadata": {},
   "outputs": [
    {
     "data": {
      "text/html": [
       "<div><style>\n",
       ".dataframe > thead > tr > th,\n",
       ".dataframe > tbody > tr > td {\n",
       "  text-align: right;\n",
       "}\n",
       "</style>\n",
       "<small>shape: (10, 3)</small><table border=\"1\" class=\"dataframe\"><thead><tr><th>CreationDate</th><th>Score</th><th>Title</th></tr><tr><td>str</td><td>i64</td><td>str</td></tr></thead><tbody><tr><td>&quot;2008-11-20T18:42:21Z&quot;</td><td>824</td><td>&quot;How do I randomly select an item from a list using Python?&quot;</td></tr><tr><td>&quot;2010-01-12T21:07:40Z&quot;</td><td>797</td><td>&quot;Manually raising (throwing) an exception in Python&quot;</td></tr><tr><td>&quot;2009-02-12T14:11:50Z&quot;</td><td>599</td><td>&quot;Extracting extension from filename in Python&quot;</td></tr><tr><td>&quot;2008-09-30T11:00:10Z&quot;</td><td>588</td><td>&quot;What&#x27;s the canonical way to check for type in python?&quot;</td></tr><tr><td>&quot;2009-10-07T21:11:22Z&quot;</td><td>501</td><td>&quot;Use different Python version with virtualenv&quot;</td></tr><tr><td>&quot;2008-11-19T20:15:38Z&quot;</td><td>484</td><td>&quot;How do I remove/delete a folder that is not empty with Python?&quot;</td></tr><tr><td>&quot;2011-05-28T05:44:53Z&quot;</td><td>481</td><td>&quot;Correct way to write line to file in Python&quot;</td></tr><tr><td>&quot;2009-08-24T16:30:15Z&quot;</td><td>474</td><td>&quot;&#x27;has_key()&#x27; or &#x27;in&#x27;?&quot;</td></tr><tr><td>&quot;2015-05-13T13:16:22Z&quot;</td><td>472</td><td>&quot;Why is [] faster than list()?&quot;</td></tr><tr><td>&quot;2008-10-16T19:05:47Z&quot;</td><td>435</td><td>&quot;Map two lists into a dictionary in Python&quot;</td></tr></tbody></table></div>"
      ],
      "text/plain": [
       "shape: (10, 3)\n",
       "┌──────────────────────┬───────┬────────────────────────────────────────────────────────────┐\n",
       "│ CreationDate         ┆ Score ┆ Title                                                      │\n",
       "│ ---                  ┆ ---   ┆ ---                                                        │\n",
       "│ str                  ┆ i64   ┆ str                                                        │\n",
       "╞══════════════════════╪═══════╪════════════════════════════════════════════════════════════╡\n",
       "│ 2008-11-20T18:42:21Z ┆ 824   ┆ How do I randomly select an item from a list using Python? │\n",
       "│ 2010-01-12T21:07:40Z ┆ 797   ┆ Manually raising (throwing) an exception in Python         │\n",
       "│ 2009-02-12T14:11:50Z ┆ 599   ┆ Extracting extension from filename in Python               │\n",
       "│ 2008-09-30T11:00:10Z ┆ 588   ┆ What's the canonical way to check for type in python?      │\n",
       "│ …                    ┆ …     ┆ …                                                          │\n",
       "│ 2011-05-28T05:44:53Z ┆ 481   ┆ Correct way to write line to file in Python                │\n",
       "│ 2009-08-24T16:30:15Z ┆ 474   ┆ 'has_key()' or 'in'?                                       │\n",
       "│ 2015-05-13T13:16:22Z ┆ 472   ┆ Why is [] faster than list()?                              │\n",
       "│ 2008-10-16T19:05:47Z ┆ 435   ┆ Map two lists into a dictionary in Python                  │\n",
       "└──────────────────────┴───────┴────────────────────────────────────────────────────────────┘"
      ]
     },
     "execution_count": 9,
     "metadata": {},
     "output_type": "execute_result"
    }
   ],
   "source": [
    "top_python_questions.select(pl.col(\"CreationDate\", \"Score\", \"Title\")).head(10)"
   ]
  }
 ],
 "metadata": {
  "kernelspec": {
   "display_name": "Python 3 (ipykernel)",
   "language": "python",
   "name": "python3"
  },
  "language_info": {
   "codemirror_mode": {
    "name": "ipython",
    "version": 3
   },
   "file_extension": ".py",
   "mimetype": "text/x-python",
   "name": "python",
   "nbconvert_exporter": "python",
   "pygments_lexer": "ipython3",
   "version": "3.11.3"
  }
 },
 "nbformat": 4,
 "nbformat_minor": 5
}
